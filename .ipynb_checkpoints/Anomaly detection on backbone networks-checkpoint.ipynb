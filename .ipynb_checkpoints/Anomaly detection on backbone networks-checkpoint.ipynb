{
 "cells": [
  {
   "cell_type": "code",
   "execution_count": 64,
   "metadata": {},
   "outputs": [],
   "source": [
    "import numpy as np\n",
    "import pandas as pd\n",
    "import matplotlib.pyplot as plt\n",
    "from sklearn.preprocessing import StandardScaler\n",
    "from sklearn.decomposition import PCA\n",
    "from sklearn.cluster import KMeans"
   ]
  },
  {
   "cell_type": "code",
   "execution_count": null,
   "metadata": {},
   "outputs": [],
   "source": [
    "with open('data/net-traffic/AbileneFlows/odnames','r') as f:\n",
    "    odnames = [line.strip() for line in f]\n",
    "dates = pd.date_range('9/1/2003',freq='10min',periods=1008)\n",
    "Atraf = pd.read_csv('data/net-traffic/AbileneFlows/X',sep='  ',header=None,names=odnames,engine='python')\n",
    "Atraf.index = dates\n",
    "# Atraf"
   ]
  },
  {
   "cell_type": "code",
   "execution_count": null,
   "metadata": {},
   "outputs": [],
   "source": [
    "std_atraf = StandardScaler().fit_transform(Atraf)\n",
    "# pd.DataFrame(Atraf)"
   ]
  },
  {
   "cell_type": "code",
   "execution_count": null,
   "metadata": {},
   "outputs": [],
   "source": [
    "pca = PCA(n_components=5)\n",
    "pca.fit(std_atraf)\n",
    "projection = (np.matmul(pca.components_, std_atraf.T)).T\n",
    "\n",
    "# pd.DataFrame(projection)"
   ]
  },
  {
   "cell_type": "code",
   "execution_count": null,
   "metadata": {},
   "outputs": [],
   "source": [
    "# disponivel no notebook da aula 3\n",
    "\n",
    "inertia = []\n",
    "k = []\n",
    "for i in range(1, 100):\n",
    "    kmeans = KMeans(n_clusters=i)\n",
    "    kmeans.fit(std_atraf)\n",
    "    inertia.append(kmeans.inertia_)\n",
    "    k.append(i)\n",
    "_haha = plt.plot(k, inertia)\n",
    "plt.xlabel(\"k\")\n",
    "_haha = plt.ylabel(\"Função objetivo\")"
   ]
  }
 ],
 "metadata": {
  "kernelspec": {
   "display_name": "Python 3",
   "language": "python",
   "name": "python3"
  },
  "language_info": {
   "codemirror_mode": {
    "name": "ipython",
    "version": 3
   },
   "file_extension": ".py",
   "mimetype": "text/x-python",
   "name": "python",
   "nbconvert_exporter": "python",
   "pygments_lexer": "ipython3",
   "version": "3.7.3"
  }
 },
 "nbformat": 4,
 "nbformat_minor": 2
}
